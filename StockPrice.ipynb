{
 "cells": [
  {
   "cell_type": "markdown",
   "metadata": {},
   "source": [
    "# 知识点：\n",
    "-了解python三方库tushare的主要功能（股票、期货等金融数据采集、清洗加工、数据存储和分析）    \n",
    "-了解通过python和tushare库实现个股和大盘数据的采集    \n",
    "-采集数据导出到excel/csv表中保存起来    "
   ]
  },
  {
   "cell_type": "markdown",
   "metadata": {},
   "source": [
    "[Tushare](http://tushare.org)是一个免费、开源的python财经数据[接口包](https://jingyan.baidu.com/article/3065b3b68d7fb5becff8a494.html)。主要实现对股票等金融数据从数据采集、清洗加工到数据存储的过程，能够为金融分析人员提供快速、整洁、和多样的便于分析的数据，为他们在数据获取方面极大地减轻工作量，使他们更加专注于策略和模型的研究与实现上。考虑到Python pandas包在金融量化分析中体现出的优势，Tushare返回的绝大部分的数据格式都是pandas DataFrame类型，非常便于用pandas/NumPy/Matplotlib进行数据分析和可视化。   \n",
    "*  官方github地址：https://github.com/waditu/Tushare    \n",
    "*  公众号：waditu"
   ]
  },
  {
   "cell_type": "markdown",
   "metadata": {
    "cell_style": "center"
   },
   "source": [
    "## 获取历史行情数据 get_hist_data()：\n",
    "获取个股历史交易数据（包括均线数据），可以通过参数设置获取日k线、周k线、月k线，以及5分钟、15分钟、30分钟和60分钟k线数据。本接口只能获取近3年的日线数据，适合搭配均线数据进行选股和分析。\n",
    "\n",
    "**参数说明：**\n",
    "\n",
    "code：股票代码，即6位数字代码，或者指数代码（sh=上证指数 sz=深圳成指 hs300=沪深300指数 sz50=上证50 zxb=中小板 cyb=创业板）    \n",
    "start：开始日期，格式YYYY-MM-DD    \n",
    "end：结束日期，格式YYYY-MM-DD    \n",
    "ktype：数据类型，D=日k线 W=周 M=月 5=5分钟 15=15分钟 30=30分钟 60=60分钟，默认为D    \n",
    "retry_count：当网络异常后重试次数，默认为3    \n",
    "pause:重试时停顿秒数，默认为0    \n",
    "\n",
    "返回值说明：\n",
    "\n",
    "date：日期    \n",
    "open：开盘价    \n",
    "high：最高价    \n",
    "close：收盘价    \n",
    "low：最低价    \n",
    "volume：成交量    \n",
    "price_change：价格变动    \n",
    "p_change：涨跌幅    \n",
    "ma5：5日均价    \n",
    "ma10：10日均价    \n",
    "ma20:20日均价    \n",
    "v_ma5:5日均量    \n",
    "v_ma10:10日均量    \n",
    "v_ma20:20日均量    \n",
    "turnover:换手率[注：指数无此项]\n",
    "\n",
    "## 使用举例："
   ]
  },
  {
   "cell_type": "code",
   "execution_count": null,
   "metadata": {
    "cell_style": "center"
   },
   "outputs": [],
   "source": [
    "import tushare as ts\n",
    "data = ts.get_hist_data('300274')\n",
    "print(data)"
   ]
  },
  {
   "cell_type": "markdown",
   "metadata": {},
   "source": [
    "获取某一时间段的历史数据："
   ]
  },
  {
   "cell_type": "code",
   "execution_count": null,
   "metadata": {},
   "outputs": [],
   "source": [
    "import tushare as ts\n",
    "data = ts.get_hist_data('300274',start='2017-01-01',end='2018-03-27')\n",
    "print(data)"
   ]
  },
  {
   "cell_type": "markdown",
   "metadata": {},
   "source": [
    "## 第二个获取历史数据的函数get_h_data()    \n",
    "在不指定开始时间和结束时间时，该函数默认返回最近一年的日线数据，返回的数据与get_hist_data不同的是，该函数只返回开盘价（open）、最高价（high）、收盘价（close）、最低价（low）、成交量（volume）、成交金额（amount）六列 ，同样加上时间段也可以获取相应数据。"
   ]
  },
  {
   "cell_type": "code",
   "execution_count": null,
   "metadata": {},
   "outputs": [],
   "source": [
    "import tushare as ts\n",
    "data = ts.get_h_data('300274')\n",
    "print(data)"
   ]
  },
  {
   "cell_type": "markdown",
   "metadata": {},
   "source": [
    "## 第三个获取历史数据的函数get_k_data()\n",
    "与前两个函数相比，这个函数获取数据的速度很明显要快很多，而且可以返回每一只股票从上市开始到当前交易日的所有日线数据，这个优点是前两个函数都不具备的，更重要的是，如果批量3000多只股票的数据，前两个都不如get_k_data()稳定。"
   ]
  },
  {
   "cell_type": "code",
   "execution_count": null,
   "metadata": {},
   "outputs": [],
   "source": [
    "import tushare as ts\n",
    "data = ts.get_k_data('300274')\n",
    "print(data)"
   ]
  },
  {
   "cell_type": "code",
   "execution_count": null,
   "metadata": {},
   "outputs": [],
   "source": [
    "# 获取上证指数进3年来的历史数据\n",
    "import tushare as ts\n",
    "data = ts.get_k_data('sh')\n",
    "print(data)"
   ]
  },
  {
   "cell_type": "code",
   "execution_count": null,
   "metadata": {},
   "outputs": [],
   "source": [
    "# 获取个股某段时间内的历史数据\n",
    "import tushare as ts\n",
    "data = ts.get_k_data('600519'， start = '2019-04-01' , end = '2019-04-30')\n",
    "print(data)"
   ]
  },
  {
   "cell_type": "markdown",
   "metadata": {},
   "source": [
    "## 获取全天所有股票（3600多只）交易数据，并导出excel/csv等"
   ]
  },
  {
   "cell_type": "code",
   "execution_count": null,
   "metadata": {},
   "outputs": [],
   "source": [
    "import tushare as ts\n",
    "df = ts.get_day_all('2019-05-22')\n",
    "df.to_excel('/Users/tuyuge/五月课表/3-ML/stockprice.xlsx', 'allday') #allday为sheet名"
   ]
  },
  {
   "cell_type": "code",
   "execution_count": null,
   "metadata": {},
   "outputs": [],
   "source": [
    "import tushare as ts\n",
    "df = ts.get_day_all('2019-05-22')\n",
    "df.to_csv('/Users/tuyuge/五月课表/3-ML/stockprice.csv') #allday为sheet名"
   ]
  },
  {
   "cell_type": "markdown",
   "metadata": {},
   "source": [
    "## Tushare更多玩法\n",
    "见官网和官方公众号\n",
    "\n",
    "下面是另一个实例"
   ]
  },
  {
   "cell_type": "code",
   "execution_count": null,
   "metadata": {},
   "outputs": [],
   "source": [
    "import tushare as ts\n",
    "import os\n",
    "\n",
    "code = input('股票代码:')\n",
    "start = input('开始日期，格式YYYY-MM-DD:')\n",
    "end = input('结束日期，格式YYYY-MM-DD:')\n",
    "os.makedirs(r'%s/k线数据'%code)\n",
    "os.makedirs(r'%s/复权数据'%code)"
   ]
  },
  {
   "cell_type": "markdown",
   "metadata": {},
   "source": [
    "os.makedirs() [方法](https://www.runoob.com/python/os-makedirs.html)用于递归创建目录。[递归是什么意思？](https://www.cnblogs.com/Pushy/p/8455862.html)"
   ]
  },
  {
   "cell_type": "code",
   "execution_count": null,
   "metadata": {},
   "outputs": [],
   "source": [
    "#获取历史交易数据\n",
    "#k线数据\n",
    "ts.get_hist_data(code=code,start=start,end=end, ktype='5').to_csv('%s/k线数据/5分钟.csv'%code) #5分钟\n",
    "ts.get_hist_data(code=code,start=start,end=end, ktype='15').to_csv('%s/k线数据/15分钟.csv'%code) #15分钟\n",
    "ts.get_hist_data(code=code,start=start,end=end, ktype='30').to_csv('%s/k线数据/30分钟.csv'%code) #30分钟\n",
    "ts.get_hist_data(code=code,start=start,end=end, ktype='60').to_csv('%s/k线数据/60分钟.csv'%code) #60分钟\n",
    "ts.get_hist_data(code=code,start=start,end=end).to_csv('%s/k线数据/月.csv'%int(code)) #日\n",
    "ts.get_hist_data(code=code,start=start,end=end, ktype='W').to_csv('%s/k线数据/周.csv'%code) #周\n",
    "ts.get_hist_data(code=code,start=start,end=end, ktype='M').to_csv('%s/k线数据/月.csv'%code) #月\n",
    "ts.get_hist_data('sh',start=start,end=end).to_csv('%s/k线数据/上证指数.csv'%code) #上证指数\n",
    "ts.get_hist_data('sz',start=start,end=end).to_csv('%s/k线数据/深圳成指.csv'%code) #深圳成指\n",
    "ts.get_hist_data('hs300',start=start,end=end).to_csv('%s/k线数据/沪深300指数.csv'%code) #沪深300指数\n",
    "ts.get_hist_data('sz50',start=start,end=end).to_csv('%s/k线数据/上证50指数.csv'%code) #上证50指数\n",
    "ts.get_hist_data('zxb',start=start,end=end).to_csv('%s/k线数据/中小板指数.csv'%code) #中小板指数\n",
    "ts.get_hist_data('cyb',start=start,end=end).to_csv('%s/k线数据/创业板指数.csv'%code) #创业板指数\n",
    "#复权数据\n",
    "ts.get_h_data(code=code,start=start,end=end).to_csv('%s/复权数据/前复权.csv'%code) #前复权\n",
    "ts.get_h_data(code=code,start=start,end=end, autype='hfq').to_csv('%s/复权数据/后复权.csv'%code) #后复权\n",
    "ts.get_h_data(code=code,start=start,end=end, autype=None).to_csv('%s/复权数据/不复权.csv'%code) #不复权\n",
    "#实时行情数据\n",
    "try:\n",
    "    ts.get_today_all(code=code).to_csv('%s/实时行情数据.csv'%code)\n",
    "except:\n",
    "    print('找不到数据')\n",
    "#大盘指数列表\n",
    "ts.get_index().to_csv('%s/大盘指数行情列表.csv'%code)"
   ]
  },
  {
   "cell_type": "markdown",
   "metadata": {},
   "source": [
    "Reference:\n",
    "https://www.cnblogs.com/DreamRJF/p/8660630.html"
   ]
  }
 ],
 "metadata": {
  "kernelspec": {
   "display_name": "Python 3",
   "language": "python",
   "name": "python3"
  },
  "language_info": {
   "codemirror_mode": {
    "name": "ipython",
    "version": 3
   },
   "file_extension": ".py",
   "mimetype": "text/x-python",
   "name": "python",
   "nbconvert_exporter": "python",
   "pygments_lexer": "ipython3",
   "version": "3.7.3"
  },
  "toc": {
   "base_numbering": 1,
   "nav_menu": {},
   "number_sections": true,
   "sideBar": true,
   "skip_h1_title": false,
   "title_cell": "Table of Contents",
   "title_sidebar": "Contents",
   "toc_cell": false,
   "toc_position": {},
   "toc_section_display": true,
   "toc_window_display": false
  },
  "varInspector": {
   "cols": {
    "lenName": 16,
    "lenType": 16,
    "lenVar": 40
   },
   "kernels_config": {
    "python": {
     "delete_cmd_postfix": "",
     "delete_cmd_prefix": "del ",
     "library": "var_list.py",
     "varRefreshCmd": "print(var_dic_list())"
    },
    "r": {
     "delete_cmd_postfix": ") ",
     "delete_cmd_prefix": "rm(",
     "library": "var_list.r",
     "varRefreshCmd": "cat(var_dic_list()) "
    }
   },
   "types_to_exclude": [
    "module",
    "function",
    "builtin_function_or_method",
    "instance",
    "_Feature"
   ],
   "window_display": false
  }
 },
 "nbformat": 4,
 "nbformat_minor": 2
}
